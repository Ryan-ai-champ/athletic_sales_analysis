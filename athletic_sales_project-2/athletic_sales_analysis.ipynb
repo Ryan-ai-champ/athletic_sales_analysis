{
    "cells": [
        {
            "cell_type": "markdown",
            "metadata": {},
            "source": ["# Athletic Sales Analysis\n\nAnalyzing sales data for athletic wear across the United States"]
        },
        {
            "cell_type": "code",
            "execution_count": null,
            "metadata": {},
            "outputs": [],
            "source": ["import pandas as pd\nimport numpy as np"]
        },
        {
            "cell_type": "markdown",
            "metadata": {},
            "source": ["## 1. Data Loading and Cleaning"]
        },
        {
            "cell_type": "code",
            "execution_count": null,
            "metadata": {},
            "outputs": [],
            "source": ["# Load and combine data\ndf_2020 = pd.read_csv('athletic_sales_2020.csv')\ndf_2021 = pd.read_csv('athletic_sales_2021.csv')\n\n# Combine datasets\ndf = pd.concat([df_2020, df_2021], ignore_index=True)\n\n# Convert invoice_date to datetime\ndf['invoice_date'] = pd.to_datetime(df['invoice_date'])\n\nprint('Data info:')\ndf.info()"]
        }
    ],
    "metadata": {
        "kernelspec": {
            "display_name": "Python 3",
            "language": "python",
            "name": "python3"
        }
    },
    "nbformat": 4,
    "nbformat_minor": 4
}
