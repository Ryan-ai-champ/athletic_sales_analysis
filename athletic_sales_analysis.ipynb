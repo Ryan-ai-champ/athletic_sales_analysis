{
    "cells": [
        {
            "cell_type": "markdown",
            "metadata": {},
            "source": ["# Athletic Sales Analysis\n\nAnalyzing sales data for athletic wear across the United States"]
        },
        {
            "cell_type": "code",
            "execution_count": null,
            "metadata": {},
            "outputs": [],
            "source": ["import pandas as pd\nimport numpy as np"]
        },
        {
            "cell_type": "markdown",
            "metadata": {},
            "source": ["## 1. Data Loading and Cleaning"]
        },
        {
            "cell_type": "code",
            "execution_count": null,
            "metadata": {},
            "outputs": [],
            "source": ["# Load and combine data\ndf_2020 = pd.read_csv('athletic_sales_2020.csv')\ndf_2021 = pd.read_csv('athletic_sales_2021.csv')\n\n# Combine datasets\ndf = pd.concat([df_2020, df_2021], ignore_index=True)\n\n# Convert invoice_date to datetime\ndf['invoice_date'] = pd.to_datetime(df['invoice_date'])\n\nprint('Data info:')\ndf.info()"]
        },
        {
            "cell_type": "markdown",
            "metadata": {},
            "source": ["## 2. Regional Products Analysis"]
        },
        {
            "cell_type": "code",
            "execution_count": null,
            "metadata": {},
            "outputs": [],
            "source": ["# Analysis of products sold by region\nregion_products = pd.pivot_table(df, values='units_sold', index=['region', 'state', 'city'], aggfunc='sum')\nregion_products = region_products.sort_values('units_sold', ascending=False)\n\nprint('Top 5 Regions by Products Sold:')\ndisplay(region_products.head())"]
        },
        {
            "cell_type": "markdown",
            "metadata": {},
            "source": ["## 3. Regional Sales Analysis"]
        },
        {
            "cell_type": "code",
            "execution_count": null,
            "metadata": {},
            "outputs": [],
            "source": ["# Analysis of sales by region\nregion_sales = pd.pivot_table(df, values='total_sales', index=['region', 'state', 'city'], aggfunc='sum')\nregion_sales = region_sales.sort_values('total_sales', ascending=False)\nregion_sales['total_sales'] = region_sales['total_sales'].apply(lambda x: f'${x:,.2f}')\n\nprint('Top 5 Regions by Sales:')\ndisplay(region_sales.head())"]
        },
        {
            "cell_type": "markdown",
            "metadata": {},
            "source": ["## 4. Retailer Analysis"]
        },
        {
            "cell_type": "code",
            "execution_count": null,
            "metadata": {},
            "outputs": [],
            "source": ["# Analysis of sales by retailer\nretailer_sales = pd.pivot_table(df, values='total_sales', index=['retailer', 'region', 'state', 'city'], aggfunc='sum')\nretailer_sales = retailer_sales.sort_values('total_sales', ascending=False)\nretailer_sales['total_sales'] = retailer_sales['total_sales'].apply(lambda x: f'${x:,.2f}')\n\nprint('Top 5 Retailers by Sales:')\ndisplay(retailer_sales.head())"]
        },
        {
            "cell_type": "markdown",
            "metadata": {},
            "source": ["## 5. Women's Athletic Footwear Analysis"]
        },
        {
            "cell_type": "code",
            "execution_count": null,
            "metadata": {},
            "outputs": [],
            "source": ["# Filter for women's athletic footwear\nwomens_footwear = df[df['product'].str.contains('Women.*Athletic.*Footwear', case=False)]\n\n# Analysis of women's footwear sales by retailer\nwomens_sales = pd.pivot_table(womens_footwear, values='total_sales', index=['retailer', 'region', 'state', 'city'], aggfunc='sum')\nwomens_sales = womens_sales.sort_values('total_sales', ascending=False)\nwomens_sales['total_sales'] = womens_sales['total_sales'].apply(lambda x: f'${x:,.2f}')\n\nprint('Top 5 Retailers for Women\\'s Athletic Footwear:')\ndisplay(womens_sales.head())"]
        },
        {
            "cell_type": "markdown",
            "metadata": {},
            "source": ["## 6. Time-Based Sales Analysis"]
        },
        {
            "cell_type": "code",
            "execution_count": null,
            "metadata": {},
            "outputs": [],
            "source": ["# Daily sales analysis\ndaily_sales = pd.pivot_table(womens_footwear, values='total_sales', index='invoice_date', aggfunc='sum')\ndaily_sales = daily_sales.sort_values('total_sales', ascending=False)\ndaily_sales['total_sales'] = daily_sales['total_sales'].apply(lambda x: f'${x:,.2f}')\n\nprint('Top 10 Days by Women\\'s Athletic Footwear Sales:')\ndisplay(daily_sales.head(10))\n\n# Weekly sales analysis\nweekly_sales = pd.pivot_table(womens_footwear, values='total_sales', index='invoice_date', aggfunc='sum')\nweekly_sales = weekly_sales.resample('W').sum()\nweekly_sales = weekly_sales.sort_values('total_sales', ascending=False)\nweekly_sales['total_sales'] = weekly_sales['total_sales'].apply(lambda x: f'${x:,.2f}')\n\nprint('\\nTop 10 Weeks by Women\\'s Athletic Footwear Sales:')\ndisplay(weekly_sales.head(10))"]
        }
    ],
    "metadata": {
        "kernelspec": {
            "display_name": "Python 3",
            "language": "python",
            "name": "python3"
        }
    },
    "nbformat": 4,
    "nbformat_minor": 4
}
